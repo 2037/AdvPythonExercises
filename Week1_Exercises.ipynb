{
  "cells": [
    {
      "cell_type": "markdown",
      "metadata": {
        "id": "W9WNVv9iUm0X"
      },
      "source": [
        "## Numpy"
      ]
    },
    {
      "cell_type": "code",
      "execution_count": 26,
      "metadata": {
        "id": "sxi83B8qUpv5"
      },
      "outputs": [],
      "source": [
        "import numpy as np"
      ]
    },
    {
      "cell_type": "markdown",
      "metadata": {
        "id": "YwyT3EQxVCgm"
      },
      "source": [
        "1. Create an `ndarray` of shape (3,5). All values of the array are 100."
      ]
    },
    {
      "cell_type": "code",
      "execution_count": 27,
      "metadata": {
        "id": "bdsABaxNUqVr"
      },
      "outputs": [
        {
          "data": {
            "text/plain": [
              "array([[100., 100., 100., 100., 100.],\n",
              "       [100., 100., 100., 100., 100.],\n",
              "       [100., 100., 100., 100., 100.]])"
            ]
          },
          "execution_count": 27,
          "metadata": {},
          "output_type": "execute_result"
        }
      ],
      "source": [
        "x = np.ones((3,5))*100\n",
        "x"
      ]
    },
    {
      "cell_type": "markdown",
      "metadata": {
        "id": "iYTCppLJVU3O"
      },
      "source": [
        "2. Create a border of zeros that surround the result in Question 1, so that the output is of shape (5,7), the outside values are 0 and the inside values are 100. "
      ]
    },
    {
      "cell_type": "code",
      "execution_count": 50,
      "metadata": {
        "id": "zYVIlzrrUqYY"
      },
      "outputs": [
        {
          "data": {
            "text/plain": [
              "array([[0., 0., 0., 0., 0., 0., 0.],\n",
              "       [0., 1., 1., 1., 1., 1., 0.],\n",
              "       [0., 1., 1., 1., 1., 1., 0.],\n",
              "       [0., 1., 1., 1., 1., 1., 0.],\n",
              "       [0., 0., 0., 0., 0., 0., 0.]])"
            ]
          },
          "execution_count": 50,
          "metadata": {},
          "output_type": "execute_result"
        }
      ],
      "source": [
        "y = np.zeros((5,7))\n",
        "y[1:-1:1, 1:-1:1]  = 1\n",
        "y"
      ]
    },
    {
      "cell_type": "markdown",
      "metadata": {
        "id": "YDJndwA2V1Af"
      },
      "source": [
        "3. Create a 5x5 matrix with values 1,2,3,4 just below the diagonal.\n"
      ]
    },
    {
      "cell_type": "code",
      "execution_count": 67,
      "metadata": {},
      "outputs": [
        {
          "data": {
            "text/plain": [
              "array([[0., 0., 0., 0., 0.],\n",
              "       [1., 0., 0., 0., 0.],\n",
              "       [0., 1., 0., 0., 0.],\n",
              "       [0., 0., 1., 0., 0.],\n",
              "       [0., 0., 0., 1., 0.]])"
            ]
          },
          "execution_count": 67,
          "metadata": {},
          "output_type": "execute_result"
        }
      ],
      "source": [
        "r = np.arange(1,5)\n",
        "c = np.arange(0,4)\n",
        "z = np.zeros((5,5))\n",
        "z[r,c] = 1\n",
        "z"
      ]
    },
    {
      "cell_type": "markdown",
      "metadata": {
        "id": "NYrOwCPzWMeD"
      },
      "source": [
        "4. Create a checkerboard 8x8 matrix using the tile function"
      ]
    },
    {
      "cell_type": "code",
      "execution_count": 20,
      "metadata": {
        "id": "3pEOA810WL07"
      },
      "outputs": [
        {
          "data": {
            "text/plain": [
              "array([[0, 1, 0, 1, 0, 1, 0, 1],\n",
              "       [1, 0, 1, 0, 1, 0, 1, 0],\n",
              "       [0, 1, 0, 1, 0, 1, 0, 1],\n",
              "       [1, 0, 1, 0, 1, 0, 1, 0],\n",
              "       [0, 1, 0, 1, 0, 1, 0, 1],\n",
              "       [1, 0, 1, 0, 1, 0, 1, 0],\n",
              "       [0, 1, 0, 1, 0, 1, 0, 1],\n",
              "       [1, 0, 1, 0, 1, 0, 1, 0]])"
            ]
          },
          "execution_count": 20,
          "metadata": {},
          "output_type": "execute_result"
        }
      ],
      "source": [
        "c = np.array([0,1,1,0]).reshape([2,2])\n",
        "c = np.tile(c, (4,4))\n",
        "c"
      ]
    },
    {
      "cell_type": "markdown",
      "metadata": {
        "id": "1HNTk70SWHjV"
      },
      "source": [
        "5. Sort a 2d-array by the nth column"
      ]
    },
    {
      "cell_type": "code",
      "execution_count": 128,
      "metadata": {
        "id": "9cxSyDIkUqgi"
      },
      "outputs": [
        {
          "data": {
            "text/plain": [
              "array([[5., 7., 6., 5.],\n",
              "       [4., 6., 4., 8.],\n",
              "       [9., 3., 7., 5.],\n",
              "       [5., 9., 0., 0.]])"
            ]
          },
          "execution_count": 128,
          "metadata": {},
          "output_type": "execute_result"
        }
      ],
      "source": [
        "np.random.seed(0)\n",
        "a = np.random.random(16)\n",
        "a = np.floor(a*10).reshape(4,4)\n",
        "a"
      ]
    },
    {
      "cell_type": "code",
      "execution_count": 138,
      "metadata": {},
      "outputs": [
        {
          "name": "stdout",
          "output_type": "stream",
          "text": [
            "[7. 6. 3. 9.]\n",
            "[3. 6. 7. 9.]\n",
            "[2 1 0 3]\n"
          ]
        }
      ],
      "source": [
        "# select nth col and get order after sorting\n",
        "n = 1\n",
        "print(a[:,n])\n",
        "print(np.sort(a[:,n]))\n",
        "print(np.argsort(a[:,n]))"
      ]
    },
    {
      "cell_type": "code",
      "execution_count": 139,
      "metadata": {},
      "outputs": [
        {
          "name": "stdout",
          "output_type": "stream",
          "text": [
            "[[9. 3. 7. 5.]\n",
            " [4. 6. 4. 8.]\n",
            " [5. 7. 6. 5.]\n",
            " [5. 9. 0. 0.]]\n"
          ]
        }
      ],
      "source": [
        "# reorder by k\n",
        "k = np.argsort(a[:,n])\n",
        "print(a[k,:])"
      ]
    },
    {
      "cell_type": "markdown",
      "metadata": {
        "id": "z__MABZ1W19Z"
      },
      "source": [
        "6. Compute a matrix rank"
      ]
    },
    {
      "cell_type": "code",
      "execution_count": 140,
      "metadata": {
        "id": "EKcIavS4UqjG"
      },
      "outputs": [
        {
          "name": "stdout",
          "output_type": "stream",
          "text": [
            "[[5. 7. 6. 5.]\n",
            " [4. 6. 4. 8.]\n",
            " [9. 3. 7. 5.]\n",
            " [5. 9. 0. 0.]]\n"
          ]
        },
        {
          "data": {
            "text/plain": [
              "4"
            ]
          },
          "execution_count": 140,
          "metadata": {},
          "output_type": "execute_result"
        }
      ],
      "source": [
        "print(a)\n",
        "np.linalg.matrix_rank(a)"
      ]
    },
    {
      "cell_type": "code",
      "execution_count": 100,
      "metadata": {},
      "outputs": [
        {
          "name": "stdout",
          "output_type": "stream",
          "text": [
            "[[0. 0. 0. 0. 0.]\n",
            " [1. 0. 0. 0. 0.]\n",
            " [0. 1. 0. 0. 0.]\n",
            " [0. 0. 1. 0. 0.]\n",
            " [0. 0. 0. 1. 0.]]\n"
          ]
        },
        {
          "data": {
            "text/plain": [
              "4"
            ]
          },
          "execution_count": 100,
          "metadata": {},
          "output_type": "execute_result"
        }
      ],
      "source": [
        "print(z)\n",
        "np.linalg.matrix_rank(z)"
      ]
    },
    {
      "cell_type": "code",
      "execution_count": 102,
      "metadata": {},
      "outputs": [
        {
          "name": "stdout",
          "output_type": "stream",
          "text": [
            "[[100. 100. 100. 100. 100.]\n",
            " [100. 100. 100. 100. 100.]\n",
            " [100. 100. 100. 100. 100.]]\n"
          ]
        },
        {
          "data": {
            "text/plain": [
              "1"
            ]
          },
          "execution_count": 102,
          "metadata": {},
          "output_type": "execute_result"
        }
      ],
      "source": [
        "print(x)\n",
        "np.linalg.matrix_rank(x)"
      ]
    },
    {
      "cell_type": "markdown",
      "metadata": {
        "id": "Edizw3vbXOC6"
      },
      "source": [
        "7. Consider an array of dimension (5,5,3), how to mulitply it by an array with dimensions (5,5)?"
      ]
    },
    {
      "cell_type": "code",
      "execution_count": 209,
      "metadata": {
        "id": "JITZPgiyXhHJ"
      },
      "outputs": [
        {
          "data": {
            "text/plain": [
              "array([[[ 1,  2,  3],\n",
              "        [ 4,  5,  6],\n",
              "        [ 7,  8,  9],\n",
              "        [10, 11, 12],\n",
              "        [13, 14, 15]],\n",
              "\n",
              "       [[16, 17, 18],\n",
              "        [19, 20, 21],\n",
              "        [22, 23, 24],\n",
              "        [25, 26, 27],\n",
              "        [28, 29, 30]],\n",
              "\n",
              "       [[31, 32, 33],\n",
              "        [34, 35, 36],\n",
              "        [37, 38, 39],\n",
              "        [40, 41, 42],\n",
              "        [43, 44, 45]],\n",
              "\n",
              "       [[46, 47, 48],\n",
              "        [49, 50, 51],\n",
              "        [52, 53, 54],\n",
              "        [55, 56, 57],\n",
              "        [58, 59, 60]],\n",
              "\n",
              "       [[61, 62, 63],\n",
              "        [64, 65, 66],\n",
              "        [67, 68, 69],\n",
              "        [70, 71, 72],\n",
              "        [73, 74, 75]]])"
            ]
          },
          "execution_count": 209,
          "metadata": {},
          "output_type": "execute_result"
        }
      ],
      "source": [
        "s = np.arange(1,76).reshape(5,5,3)\n",
        "s"
      ]
    },
    {
      "cell_type": "code",
      "execution_count": 208,
      "metadata": {},
      "outputs": [
        {
          "data": {
            "text/plain": [
              "array([ 1, 16, 31, 46, 61])"
            ]
          },
          "execution_count": 208,
          "metadata": {},
          "output_type": "execute_result"
        }
      ],
      "source": [
        "s[:,0,0]"
      ]
    },
    {
      "cell_type": "code",
      "execution_count": 206,
      "metadata": {},
      "outputs": [
        {
          "data": {
            "text/plain": [
              "array([[1.        , 1.        , 1.        , 1.        , 1.        ],\n",
              "       [0.0625    , 0.0625    , 0.0625    , 0.0625    , 0.0625    ],\n",
              "       [0.03225806, 0.03225806, 0.03225806, 0.03225806, 0.03225806],\n",
              "       [0.02173913, 0.02173913, 0.02173913, 0.02173913, 0.02173913],\n",
              "       [0.01639344, 0.01639344, 0.01639344, 0.01639344, 0.01639344]])"
            ]
          },
          "execution_count": 206,
          "metadata": {},
          "output_type": "execute_result"
        }
      ],
      "source": [
        "# want to rescale by leading entry of 0th axis\n",
        "s_inv = s[:,0,0]\n",
        "s_inv = 1/np.tile(s_inv,5).reshape(5,5).T\n",
        "s_inv"
      ]
    },
    {
      "cell_type": "code",
      "execution_count": 217,
      "metadata": {},
      "outputs": [
        {
          "data": {
            "text/plain": [
              "array([[0.0625],\n",
              "       [0.0625],\n",
              "       [0.0625],\n",
              "       [0.0625],\n",
              "       [0.0625]])"
            ]
          },
          "execution_count": 217,
          "metadata": {},
          "output_type": "execute_result"
        }
      ],
      "source": [
        "#eg\n",
        "s_inv[:,:,np.newaxis][1]"
      ]
    },
    {
      "cell_type": "code",
      "execution_count": 218,
      "metadata": {},
      "outputs": [
        {
          "data": {
            "text/plain": [
              "array([[16, 17, 18],\n",
              "       [19, 20, 21],\n",
              "       [22, 23, 24],\n",
              "       [25, 26, 27],\n",
              "       [28, 29, 30]])"
            ]
          },
          "execution_count": 218,
          "metadata": {},
          "output_type": "execute_result"
        }
      ],
      "source": [
        "s[1,:,:]"
      ]
    },
    {
      "cell_type": "code",
      "execution_count": 216,
      "metadata": {},
      "outputs": [
        {
          "data": {
            "text/plain": [
              "array([[1.    , 1.0625, 1.125 ],\n",
              "       [1.1875, 1.25  , 1.3125],\n",
              "       [1.375 , 1.4375, 1.5   ],\n",
              "       [1.5625, 1.625 , 1.6875],\n",
              "       [1.75  , 1.8125, 1.875 ]])"
            ]
          },
          "execution_count": 216,
          "metadata": {},
          "output_type": "execute_result"
        }
      ],
      "source": [
        "s[1,:,:]*s_inv[:,:,np.newaxis][1]"
      ]
    },
    {
      "cell_type": "code",
      "execution_count": 207,
      "metadata": {},
      "outputs": [
        {
          "data": {
            "text/plain": [
              "array([[[ 1.        ,  2.        ,  3.        ],\n",
              "        [ 4.        ,  5.        ,  6.        ],\n",
              "        [ 7.        ,  8.        ,  9.        ],\n",
              "        [10.        , 11.        , 12.        ],\n",
              "        [13.        , 14.        , 15.        ]],\n",
              "\n",
              "       [[ 1.        ,  1.0625    ,  1.125     ],\n",
              "        [ 1.1875    ,  1.25      ,  1.3125    ],\n",
              "        [ 1.375     ,  1.4375    ,  1.5       ],\n",
              "        [ 1.5625    ,  1.625     ,  1.6875    ],\n",
              "        [ 1.75      ,  1.8125    ,  1.875     ]],\n",
              "\n",
              "       [[ 1.        ,  1.03225806,  1.06451613],\n",
              "        [ 1.09677419,  1.12903226,  1.16129032],\n",
              "        [ 1.19354839,  1.22580645,  1.25806452],\n",
              "        [ 1.29032258,  1.32258065,  1.35483871],\n",
              "        [ 1.38709677,  1.41935484,  1.4516129 ]],\n",
              "\n",
              "       [[ 1.        ,  1.02173913,  1.04347826],\n",
              "        [ 1.06521739,  1.08695652,  1.10869565],\n",
              "        [ 1.13043478,  1.15217391,  1.17391304],\n",
              "        [ 1.19565217,  1.2173913 ,  1.23913043],\n",
              "        [ 1.26086957,  1.2826087 ,  1.30434783]],\n",
              "\n",
              "       [[ 1.        ,  1.01639344,  1.03278689],\n",
              "        [ 1.04918033,  1.06557377,  1.08196721],\n",
              "        [ 1.09836066,  1.1147541 ,  1.13114754],\n",
              "        [ 1.14754098,  1.16393443,  1.18032787],\n",
              "        [ 1.19672131,  1.21311475,  1.2295082 ]]])"
            ]
          },
          "execution_count": 207,
          "metadata": {},
          "output_type": "execute_result"
        }
      ],
      "source": [
        "s*s_inv[:,:,np.newaxis]"
      ]
    },
    {
      "cell_type": "markdown",
      "metadata": {
        "id": "toN4wwRfXhka"
      },
      "source": [
        "8. Consider a 16x16 array, how to get the block-sum (block size is 4x4)?"
      ]
    },
    {
      "cell_type": "code",
      "execution_count": null,
      "metadata": {},
      "outputs": [],
      "source": [
        "# 4x4"
      ]
    },
    {
      "cell_type": "code",
      "execution_count": 229,
      "metadata": {
        "id": "ZxEeQA4DXh5W"
      },
      "outputs": [
        {
          "data": {
            "text/plain": [
              "array([[ 0,  1,  2,  3],\n",
              "       [ 4,  5,  6,  7],\n",
              "       [ 8,  9, 10, 11],\n",
              "       [12, 13, 14, 15]])"
            ]
          },
          "execution_count": 229,
          "metadata": {},
          "output_type": "execute_result"
        }
      ],
      "source": [
        "st = np.arange(16).reshape((4,4))\n",
        "st"
      ]
    },
    {
      "cell_type": "code",
      "execution_count": 263,
      "metadata": {},
      "outputs": [
        {
          "data": {
            "text/plain": [
              "array([[[[ 0,  1],\n",
              "         [ 2,  3]],\n",
              "\n",
              "        [[ 4,  5],\n",
              "         [ 6,  7]]],\n",
              "\n",
              "\n",
              "       [[[ 8,  9],\n",
              "         [10, 11]],\n",
              "\n",
              "        [[12, 13],\n",
              "         [14, 15]]]])"
            ]
          },
          "execution_count": 263,
          "metadata": {},
          "output_type": "execute_result"
        }
      ],
      "source": [
        "st.reshape(2,2,2,2)"
      ]
    },
    {
      "cell_type": "code",
      "execution_count": 264,
      "metadata": {},
      "outputs": [
        {
          "data": {
            "text/plain": [
              "array([[0, 1],\n",
              "       [4, 5]])"
            ]
          },
          "execution_count": 264,
          "metadata": {},
          "output_type": "execute_result"
        }
      ],
      "source": [
        "st.reshape(2,2,2,2)[0,:,0,:]"
      ]
    },
    {
      "cell_type": "code",
      "execution_count": 260,
      "metadata": {},
      "outputs": [
        {
          "data": {
            "text/plain": [
              "array([[10, 18],\n",
              "       [42, 50]])"
            ]
          },
          "execution_count": 260,
          "metadata": {},
          "output_type": "execute_result"
        }
      ],
      "source": [
        "st.reshape(2,2,2,2).sum(axis=(1,3))"
      ]
    },
    {
      "cell_type": "code",
      "execution_count": null,
      "metadata": {},
      "outputs": [],
      "source": [
        "# 16x16"
      ]
    },
    {
      "cell_type": "code",
      "execution_count": 265,
      "metadata": {},
      "outputs": [
        {
          "data": {
            "text/plain": [
              "array([[ 408,  472,  536,  600],\n",
              "       [1432, 1496, 1560, 1624],\n",
              "       [2456, 2520, 2584, 2648],\n",
              "       [3480, 3544, 3608, 3672]])"
            ]
          },
          "execution_count": 265,
          "metadata": {},
          "output_type": "execute_result"
        }
      ],
      "source": [
        "st = np.arange(16*16).reshape((16,16))\n",
        "st.reshape(4,4,4,4).sum(axis=(1,3))"
      ]
    },
    {
      "cell_type": "code",
      "execution_count": 266,
      "metadata": {},
      "outputs": [
        {
          "data": {
            "text/plain": [
              "array([[ 0,  1,  2,  3],\n",
              "       [16, 17, 18, 19],\n",
              "       [32, 33, 34, 35],\n",
              "       [48, 49, 50, 51]])"
            ]
          },
          "execution_count": 266,
          "metadata": {},
          "output_type": "execute_result"
        }
      ],
      "source": [
        "st.reshape(4,4,4,4)[0,:,0,:]"
      ]
    },
    {
      "cell_type": "code",
      "execution_count": 267,
      "metadata": {},
      "outputs": [
        {
          "data": {
            "text/plain": [
              "408"
            ]
          },
          "execution_count": 267,
          "metadata": {},
          "output_type": "execute_result"
        }
      ],
      "source": [
        "st.reshape(4,4,4,4)[0,:,0,:].sum()"
      ]
    },
    {
      "cell_type": "markdown",
      "metadata": {
        "id": "L15y9mOiXirL"
      },
      "source": [
        "9. Get the n largest values of an array"
      ]
    },
    {
      "cell_type": "code",
      "execution_count": 317,
      "metadata": {
        "id": "-tp-G1PpXi-3"
      },
      "outputs": [
        {
          "data": {
            "text/plain": [
              "array([5., 7., 6., 5., 4., 6., 4., 8., 9., 3., 7., 5., 5., 9., 0., 0., 0.,\n",
              "       8., 7., 8., 9., 7., 4., 7., 1., 6., 1., 9., 5., 4., 2., 7., 4., 5.,\n",
              "       0., 6., 6., 6., 9., 6., 3., 4., 6., 0., 6., 6., 2., 1., 3., 3., 5.,\n",
              "       4., 9., 1., 2., 1., 6., 2., 4., 2., 1., 1., 6., 1., 1., 3., 8., 0.,\n",
              "       8., 0., 9., 4., 9., 6., 7., 0., 2., 1., 2., 1., 3., 4., 0., 6., 5.,\n",
              "       2., 5., 0., 5., 9., 3., 6., 1., 7., 2., 1., 5., 0., 8., 0.])"
            ]
          },
          "execution_count": 317,
          "metadata": {},
          "output_type": "execute_result"
        }
      ],
      "source": [
        "np.random.seed(0)\n",
        "a = np.random.rand(100)\n",
        "a = np.floor(a*10)\n",
        "a"
      ]
    },
    {
      "cell_type": "code",
      "execution_count": 323,
      "metadata": {},
      "outputs": [],
      "source": [
        "n = 10"
      ]
    },
    {
      "cell_type": "code",
      "execution_count": 324,
      "metadata": {},
      "outputs": [
        {
          "data": {
            "text/plain": [
              "array([0., 0., 0., 0., 0., 0., 0., 0., 0., 0., 0., 0., 1., 1., 1., 1., 1.,\n",
              "       1., 1., 1., 1., 1., 1., 1., 1., 2., 2., 2., 2., 2., 2., 2., 2., 2.,\n",
              "       3., 3., 3., 3., 3., 3., 3., 4., 4., 4., 4., 4., 4., 4., 4., 4., 4.,\n",
              "       5., 5., 5., 5., 5., 5., 5., 5., 5., 5., 5., 6., 6., 6., 6., 6., 6.,\n",
              "       6., 6., 6., 6., 6., 6., 6., 6., 6., 7., 7., 7., 7., 7., 7., 7., 7.,\n",
              "       8., 8., 8., 8., 8., 8., 9., 9., 9., 9., 9., 9., 9., 9., 9.])"
            ]
          },
          "execution_count": 324,
          "metadata": {},
          "output_type": "execute_result"
        }
      ],
      "source": [
        "np.sort(a) #sort all"
      ]
    },
    {
      "cell_type": "code",
      "execution_count": 325,
      "metadata": {},
      "outputs": [
        {
          "data": {
            "text/plain": [
              "array([8., 9., 9., 9., 9., 9., 9., 9., 9., 9.])"
            ]
          },
          "execution_count": 325,
          "metadata": {},
          "output_type": "execute_result"
        }
      ],
      "source": [
        "np.sort(a)[-n:] #largest n values"
      ]
    },
    {
      "cell_type": "code",
      "execution_count": 329,
      "metadata": {},
      "outputs": [
        {
          "data": {
            "text/plain": [
              "array([3., 0., 0., 1., 2., 1., 3., 0., 2., 0., 3., 1., 2., 1., 0., 0., 0.,\n",
              "       2., 0., 0., 0., 3., 1., 1., 1., 1., 1., 1., 2., 2., 2., 1., 2., 1.,\n",
              "       0., 3., 1., 2., 0., 3., 4., 4., 4., 3., 4., 4., 4., 6., 4., 5., 5.,\n",
              "       4., 4., 4., 5., 5., 5., 6., 5., 5., 6., 6., 5., 5., 5., 6., 5., 6.,\n",
              "       6., 8., 6., 6., 6., 6., 6., 6., 6., 6., 7., 7., 8., 7., 7., 7., 7.,\n",
              "       7., 7., 8., 8., 8., 8., 9., 9., 9., 9., 9., 9., 9., 9., 9.])"
            ]
          },
          "execution_count": 329,
          "metadata": {},
          "output_type": "execute_result"
        }
      ],
      "source": [
        "np.partition(a,-n) # 2nd approach: only sort part of array"
      ]
    },
    {
      "cell_type": "code",
      "execution_count": 331,
      "metadata": {},
      "outputs": [
        {
          "data": {
            "text/plain": [
              "array([8., 9., 9., 9., 9., 9., 9., 9., 9., 9.])"
            ]
          },
          "execution_count": 331,
          "metadata": {},
          "output_type": "execute_result"
        }
      ],
      "source": [
        "np.partition(a,-n)[-n:] #largest n values"
      ]
    },
    {
      "cell_type": "markdown",
      "metadata": {
        "id": "_cI2xR4mXjJd"
      },
      "source": [
        "10. Implement the Game of Life using numpy arrays"
      ]
    },
    {
      "cell_type": "code",
      "execution_count": 546,
      "metadata": {},
      "outputs": [
        {
          "data": {
            "text/plain": [
              "array([[1., 1., 1., 1., 0.],\n",
              "       [1., 0., 1., 1., 0.],\n",
              "       [1., 1., 1., 1., 0.],\n",
              "       [0., 0., 1., 1., 1.],\n",
              "       [1., 1., 0., 1., 0.]])"
            ]
          },
          "execution_count": 546,
          "metadata": {},
          "output_type": "execute_result"
        }
      ],
      "source": [
        "# initiate playground\n",
        "np.random.seed(0)\n",
        "pg = np.random.rand(5*5)\n",
        "pg = np.floor(pg.reshape(5,5)*2)\n",
        "pg"
      ]
    },
    {
      "cell_type": "code",
      "execution_count": 556,
      "metadata": {},
      "outputs": [
        {
          "name": "stdout",
          "output_type": "stream",
          "text": [
            "[[0. 1. 1. 1. 0.]\n",
            " [1. 1. 0. 0. 0.]\n",
            " [0. 1. 0. 0. 0.]\n",
            " [1. 0. 1. 0. 0.]\n",
            " [0. 0. 0. 0. 0.]]\n",
            "[[1. 1. 1. 0. 0.]\n",
            " [1. 0. 0. 1. 0.]\n",
            " [0. 0. 1. 0. 0.]\n",
            " [0. 1. 0. 0. 0.]\n",
            " [0. 0. 0. 0. 0.]]\n"
          ]
        }
      ],
      "source": [
        "\n",
        "def game_of_life_one_step(pg,enable_print=False):\n",
        "    '''\n",
        "    input: board or playground\n",
        "    output: next step of gol\n",
        "    '''\n",
        "    # enlarge with zeros\n",
        "    pg_res = np.zeros(np.array(pg.shape))\n",
        "    pg_enlarge = np.zeros(np.array(pg.shape)+[2,2])\n",
        "    pg_enlarge[1:-1,1:-1] = pg\n",
        "    # print(pg_enlarge)\n",
        "\n",
        "    # calculate sum for i,j in positions\n",
        "    for i in range(1,pg_enlarge.shape[0]-2):\n",
        "        for j in range(1,pg_enlarge.shape[1]-2):\n",
        "            center = pg_enlarge[i,j]\n",
        "            nb_sum_ij = pg_enlarge[i-1:i+2,j-1:j+2].sum() - center\n",
        "            # rules\n",
        "            if(center==0):\n",
        "                # Any live cell with two or three live neighbours lives else die\n",
        "                if(nb_sum_ij==2 or nb_sum_ij==3):\n",
        "                    if(enable_print):\n",
        "                        print((i-1,j-1),0,nb_sum_ij,1)\n",
        "                    pg_res[i-1,j-1] = 1\n",
        "            else:\n",
        "                # Any dead cell with exactly three live neighbours becomes a live cell, as if by reproduction\n",
        "                if(nb_sum_ij==3):\n",
        "                    if(enable_print):\n",
        "                        print((i-1,j-1),1,nb_sum_ij,0)\n",
        "                    pg_res[i-1,j-1] = 1\n",
        "                    \n",
        "    # print(pg_res)\n",
        "    return(pg_res)\n",
        "    \n",
        "print(pg)\n",
        "print(game_of_life_one_step(pg))"
      ]
    },
    {
      "cell_type": "code",
      "execution_count": 558,
      "metadata": {},
      "outputs": [
        {
          "name": "stdout",
          "output_type": "stream",
          "text": [
            "[[0. 1. 0. 0. 0.]\n",
            " [0. 0. 0. 0. 1.]\n",
            " [0. 1. 0. 1. 0.]\n",
            " [1. 0. 1. 0. 0.]\n",
            " [1. 1. 0. 1. 1.]]\n",
            "(1, 0) 0 2.0 1\n",
            "(1, 1) 0 2.0 1\n",
            "(1, 2) 0 3.0 1\n",
            "(1, 3) 0 2.0 1\n",
            "(2, 0) 0 2.0 1\n",
            "(2, 2) 0 3.0 1\n",
            "(3, 0) 1 3.0 0\n",
            "[[0. 0. 0. 0. 0.]\n",
            " [1. 1. 1. 1. 0.]\n",
            " [1. 0. 1. 0. 0.]\n",
            " [1. 0. 0. 0. 0.]\n",
            " [0. 0. 0. 0. 0.]]\n"
          ]
        }
      ],
      "source": [
        "np.random.seed(1)\n",
        "pg = np.random.rand(5*5)\n",
        "pg = np.floor(pg.reshape(5,5)*2)\n",
        "print(pg)\n",
        "pg_1 = game_of_life_one_step(pg,enable_print=True)\n",
        "print(pg_1)"
      ]
    },
    {
      "cell_type": "code",
      "execution_count": 560,
      "metadata": {},
      "outputs": [],
      "source": [
        "import matplotlib.pyplot as plt\n",
        "import seaborn as sns"
      ]
    },
    {
      "cell_type": "code",
      "execution_count": 568,
      "metadata": {},
      "outputs": [
        {
          "name": "stdout",
          "output_type": "stream",
          "text": [
            "[[0. 1. 0. 0. 0.]\n",
            " [0. 0. 0. 0. 1.]\n",
            " [0. 1. 0. 1. 0.]\n",
            " [1. 0. 1. 0. 0.]\n",
            " [1. 1. 0. 1. 1.]]\n",
            "[[0. 0. 0. 0. 0.]\n",
            " [1. 1. 1. 1. 0.]\n",
            " [1. 0. 1. 0. 0.]\n",
            " [1. 0. 0. 0. 0.]\n",
            " [0. 0. 0. 0. 0.]]\n",
            "[[1. 1. 1. 1. 0.]\n",
            " [0. 0. 1. 0. 0.]\n",
            " [1. 0. 1. 1. 0.]\n",
            " [0. 1. 0. 0. 0.]\n",
            " [0. 0. 0. 0. 0.]]\n",
            "[[0. 1. 1. 0. 0.]\n",
            " [1. 0. 0. 0. 0.]\n",
            " [0. 0. 1. 0. 0.]\n",
            " [1. 0. 1. 1. 0.]\n",
            " [0. 0. 0. 0. 0.]]\n"
          ]
        }
      ],
      "source": [
        "np.random.seed(1)\n",
        "pg = np.random.rand(5*5)\n",
        "pg = np.floor(pg.reshape(5,5)*2)\n",
        "print(pg)\n",
        "for i in range(3):\n",
        "    pg = game_of_life_one_step(pg)\n",
        "    print(pg)"
      ]
    },
    {
      "cell_type": "markdown",
      "metadata": {
        "id": "JjTspHcYYy1r"
      },
      "source": [
        "Check https://github.com/rougier/numpy-100/blob/master/100_Numpy_exercises.ipynb for more Numpy exercises."
      ]
    },
    {
      "cell_type": "markdown",
      "metadata": {
        "id": "duxYLMSbUrIy"
      },
      "source": [
        "## Pandas"
      ]
    },
    {
      "cell_type": "code",
      "execution_count": 465,
      "metadata": {
        "id": "X3JdMd73UsfF"
      },
      "outputs": [],
      "source": [
        "import pandas as pd\n",
        "import seaborn as sns"
      ]
    },
    {
      "cell_type": "markdown",
      "metadata": {
        "id": "gTqmqHeXYpA9"
      },
      "source": [
        "1. Using NumPy, create a Pandas DataFrame with five rows and three columns"
      ]
    },
    {
      "cell_type": "code",
      "execution_count": 467,
      "metadata": {
        "id": "5VtgfgDSUtDq"
      },
      "outputs": [
        {
          "data": {
            "text/html": [
              "<div>\n",
              "<style scoped>\n",
              "    .dataframe tbody tr th:only-of-type {\n",
              "        vertical-align: middle;\n",
              "    }\n",
              "\n",
              "    .dataframe tbody tr th {\n",
              "        vertical-align: top;\n",
              "    }\n",
              "\n",
              "    .dataframe thead th {\n",
              "        text-align: right;\n",
              "    }\n",
              "</style>\n",
              "<table border=\"1\" class=\"dataframe\">\n",
              "  <thead>\n",
              "    <tr style=\"text-align: right;\">\n",
              "      <th></th>\n",
              "      <th>0</th>\n",
              "      <th>1</th>\n",
              "      <th>2</th>\n",
              "    </tr>\n",
              "  </thead>\n",
              "  <tbody>\n",
              "    <tr>\n",
              "      <th>0</th>\n",
              "      <td>0</td>\n",
              "      <td>1</td>\n",
              "      <td>2</td>\n",
              "    </tr>\n",
              "    <tr>\n",
              "      <th>1</th>\n",
              "      <td>3</td>\n",
              "      <td>4</td>\n",
              "      <td>5</td>\n",
              "    </tr>\n",
              "    <tr>\n",
              "      <th>2</th>\n",
              "      <td>6</td>\n",
              "      <td>7</td>\n",
              "      <td>8</td>\n",
              "    </tr>\n",
              "    <tr>\n",
              "      <th>3</th>\n",
              "      <td>9</td>\n",
              "      <td>10</td>\n",
              "      <td>11</td>\n",
              "    </tr>\n",
              "    <tr>\n",
              "      <th>4</th>\n",
              "      <td>12</td>\n",
              "      <td>13</td>\n",
              "      <td>14</td>\n",
              "    </tr>\n",
              "  </tbody>\n",
              "</table>\n",
              "</div>"
            ],
            "text/plain": [
              "    0   1   2\n",
              "0   0   1   2\n",
              "1   3   4   5\n",
              "2   6   7   8\n",
              "3   9  10  11\n",
              "4  12  13  14"
            ]
          },
          "execution_count": 467,
          "metadata": {},
          "output_type": "execute_result"
        }
      ],
      "source": [
        "pd.DataFrame(np.arange(15).reshape(5,3))"
      ]
    },
    {
      "cell_type": "markdown",
      "metadata": {
        "id": "9qC1OJHFYryX"
      },
      "source": [
        "The following six questions depend on the penguins dataset."
      ]
    },
    {
      "cell_type": "code",
      "execution_count": 468,
      "metadata": {
        "id": "iz_sYU_7UtGZ"
      },
      "outputs": [],
      "source": [
        "df_penguins = sns.load_dataset('penguins')"
      ]
    },
    {
      "cell_type": "code",
      "execution_count": 470,
      "metadata": {},
      "outputs": [
        {
          "data": {
            "text/html": [
              "<div>\n",
              "<style scoped>\n",
              "    .dataframe tbody tr th:only-of-type {\n",
              "        vertical-align: middle;\n",
              "    }\n",
              "\n",
              "    .dataframe tbody tr th {\n",
              "        vertical-align: top;\n",
              "    }\n",
              "\n",
              "    .dataframe thead th {\n",
              "        text-align: right;\n",
              "    }\n",
              "</style>\n",
              "<table border=\"1\" class=\"dataframe\">\n",
              "  <thead>\n",
              "    <tr style=\"text-align: right;\">\n",
              "      <th></th>\n",
              "      <th>species</th>\n",
              "      <th>island</th>\n",
              "      <th>bill_length_mm</th>\n",
              "      <th>bill_depth_mm</th>\n",
              "      <th>flipper_length_mm</th>\n",
              "      <th>body_mass_g</th>\n",
              "      <th>sex</th>\n",
              "    </tr>\n",
              "  </thead>\n",
              "  <tbody>\n",
              "    <tr>\n",
              "      <th>0</th>\n",
              "      <td>Adelie</td>\n",
              "      <td>Torgersen</td>\n",
              "      <td>39.1</td>\n",
              "      <td>18.7</td>\n",
              "      <td>181.0</td>\n",
              "      <td>3750.0</td>\n",
              "      <td>Male</td>\n",
              "    </tr>\n",
              "    <tr>\n",
              "      <th>1</th>\n",
              "      <td>Adelie</td>\n",
              "      <td>Torgersen</td>\n",
              "      <td>39.5</td>\n",
              "      <td>17.4</td>\n",
              "      <td>186.0</td>\n",
              "      <td>3800.0</td>\n",
              "      <td>Female</td>\n",
              "    </tr>\n",
              "    <tr>\n",
              "      <th>2</th>\n",
              "      <td>Adelie</td>\n",
              "      <td>Torgersen</td>\n",
              "      <td>40.3</td>\n",
              "      <td>18.0</td>\n",
              "      <td>195.0</td>\n",
              "      <td>3250.0</td>\n",
              "      <td>Female</td>\n",
              "    </tr>\n",
              "    <tr>\n",
              "      <th>3</th>\n",
              "      <td>Adelie</td>\n",
              "      <td>Torgersen</td>\n",
              "      <td>NaN</td>\n",
              "      <td>NaN</td>\n",
              "      <td>NaN</td>\n",
              "      <td>NaN</td>\n",
              "      <td>NaN</td>\n",
              "    </tr>\n",
              "    <tr>\n",
              "      <th>4</th>\n",
              "      <td>Adelie</td>\n",
              "      <td>Torgersen</td>\n",
              "      <td>36.7</td>\n",
              "      <td>19.3</td>\n",
              "      <td>193.0</td>\n",
              "      <td>3450.0</td>\n",
              "      <td>Female</td>\n",
              "    </tr>\n",
              "  </tbody>\n",
              "</table>\n",
              "</div>"
            ],
            "text/plain": [
              "  species     island  bill_length_mm  bill_depth_mm  flipper_length_mm  \\\n",
              "0  Adelie  Torgersen            39.1           18.7              181.0   \n",
              "1  Adelie  Torgersen            39.5           17.4              186.0   \n",
              "2  Adelie  Torgersen            40.3           18.0              195.0   \n",
              "3  Adelie  Torgersen             NaN            NaN                NaN   \n",
              "4  Adelie  Torgersen            36.7           19.3              193.0   \n",
              "\n",
              "   body_mass_g     sex  \n",
              "0       3750.0    Male  \n",
              "1       3800.0  Female  \n",
              "2       3250.0  Female  \n",
              "3          NaN     NaN  \n",
              "4       3450.0  Female  "
            ]
          },
          "execution_count": 470,
          "metadata": {},
          "output_type": "execute_result"
        }
      ],
      "source": [
        "df_penguins.head()"
      ]
    },
    {
      "cell_type": "markdown",
      "metadata": {
        "id": "zewpETumaw2B"
      },
      "source": [
        "2. What function can we use to drop the rows that have missing data?"
      ]
    },
    {
      "cell_type": "code",
      "execution_count": 471,
      "metadata": {
        "id": "GzqdIEsqayY9"
      },
      "outputs": [
        {
          "data": {
            "text/html": [
              "<div>\n",
              "<style scoped>\n",
              "    .dataframe tbody tr th:only-of-type {\n",
              "        vertical-align: middle;\n",
              "    }\n",
              "\n",
              "    .dataframe tbody tr th {\n",
              "        vertical-align: top;\n",
              "    }\n",
              "\n",
              "    .dataframe thead th {\n",
              "        text-align: right;\n",
              "    }\n",
              "</style>\n",
              "<table border=\"1\" class=\"dataframe\">\n",
              "  <thead>\n",
              "    <tr style=\"text-align: right;\">\n",
              "      <th></th>\n",
              "      <th>species</th>\n",
              "      <th>island</th>\n",
              "      <th>bill_length_mm</th>\n",
              "      <th>bill_depth_mm</th>\n",
              "      <th>flipper_length_mm</th>\n",
              "      <th>body_mass_g</th>\n",
              "      <th>sex</th>\n",
              "    </tr>\n",
              "  </thead>\n",
              "  <tbody>\n",
              "    <tr>\n",
              "      <th>0</th>\n",
              "      <td>Adelie</td>\n",
              "      <td>Torgersen</td>\n",
              "      <td>39.1</td>\n",
              "      <td>18.7</td>\n",
              "      <td>181.0</td>\n",
              "      <td>3750.0</td>\n",
              "      <td>Male</td>\n",
              "    </tr>\n",
              "    <tr>\n",
              "      <th>1</th>\n",
              "      <td>Adelie</td>\n",
              "      <td>Torgersen</td>\n",
              "      <td>39.5</td>\n",
              "      <td>17.4</td>\n",
              "      <td>186.0</td>\n",
              "      <td>3800.0</td>\n",
              "      <td>Female</td>\n",
              "    </tr>\n",
              "    <tr>\n",
              "      <th>2</th>\n",
              "      <td>Adelie</td>\n",
              "      <td>Torgersen</td>\n",
              "      <td>40.3</td>\n",
              "      <td>18.0</td>\n",
              "      <td>195.0</td>\n",
              "      <td>3250.0</td>\n",
              "      <td>Female</td>\n",
              "    </tr>\n",
              "    <tr>\n",
              "      <th>4</th>\n",
              "      <td>Adelie</td>\n",
              "      <td>Torgersen</td>\n",
              "      <td>36.7</td>\n",
              "      <td>19.3</td>\n",
              "      <td>193.0</td>\n",
              "      <td>3450.0</td>\n",
              "      <td>Female</td>\n",
              "    </tr>\n",
              "    <tr>\n",
              "      <th>5</th>\n",
              "      <td>Adelie</td>\n",
              "      <td>Torgersen</td>\n",
              "      <td>39.3</td>\n",
              "      <td>20.6</td>\n",
              "      <td>190.0</td>\n",
              "      <td>3650.0</td>\n",
              "      <td>Male</td>\n",
              "    </tr>\n",
              "    <tr>\n",
              "      <th>...</th>\n",
              "      <td>...</td>\n",
              "      <td>...</td>\n",
              "      <td>...</td>\n",
              "      <td>...</td>\n",
              "      <td>...</td>\n",
              "      <td>...</td>\n",
              "      <td>...</td>\n",
              "    </tr>\n",
              "    <tr>\n",
              "      <th>338</th>\n",
              "      <td>Gentoo</td>\n",
              "      <td>Biscoe</td>\n",
              "      <td>47.2</td>\n",
              "      <td>13.7</td>\n",
              "      <td>214.0</td>\n",
              "      <td>4925.0</td>\n",
              "      <td>Female</td>\n",
              "    </tr>\n",
              "    <tr>\n",
              "      <th>340</th>\n",
              "      <td>Gentoo</td>\n",
              "      <td>Biscoe</td>\n",
              "      <td>46.8</td>\n",
              "      <td>14.3</td>\n",
              "      <td>215.0</td>\n",
              "      <td>4850.0</td>\n",
              "      <td>Female</td>\n",
              "    </tr>\n",
              "    <tr>\n",
              "      <th>341</th>\n",
              "      <td>Gentoo</td>\n",
              "      <td>Biscoe</td>\n",
              "      <td>50.4</td>\n",
              "      <td>15.7</td>\n",
              "      <td>222.0</td>\n",
              "      <td>5750.0</td>\n",
              "      <td>Male</td>\n",
              "    </tr>\n",
              "    <tr>\n",
              "      <th>342</th>\n",
              "      <td>Gentoo</td>\n",
              "      <td>Biscoe</td>\n",
              "      <td>45.2</td>\n",
              "      <td>14.8</td>\n",
              "      <td>212.0</td>\n",
              "      <td>5200.0</td>\n",
              "      <td>Female</td>\n",
              "    </tr>\n",
              "    <tr>\n",
              "      <th>343</th>\n",
              "      <td>Gentoo</td>\n",
              "      <td>Biscoe</td>\n",
              "      <td>49.9</td>\n",
              "      <td>16.1</td>\n",
              "      <td>213.0</td>\n",
              "      <td>5400.0</td>\n",
              "      <td>Male</td>\n",
              "    </tr>\n",
              "  </tbody>\n",
              "</table>\n",
              "<p>333 rows × 7 columns</p>\n",
              "</div>"
            ],
            "text/plain": [
              "    species     island  bill_length_mm  bill_depth_mm  flipper_length_mm  \\\n",
              "0    Adelie  Torgersen            39.1           18.7              181.0   \n",
              "1    Adelie  Torgersen            39.5           17.4              186.0   \n",
              "2    Adelie  Torgersen            40.3           18.0              195.0   \n",
              "4    Adelie  Torgersen            36.7           19.3              193.0   \n",
              "5    Adelie  Torgersen            39.3           20.6              190.0   \n",
              "..      ...        ...             ...            ...                ...   \n",
              "338  Gentoo     Biscoe            47.2           13.7              214.0   \n",
              "340  Gentoo     Biscoe            46.8           14.3              215.0   \n",
              "341  Gentoo     Biscoe            50.4           15.7              222.0   \n",
              "342  Gentoo     Biscoe            45.2           14.8              212.0   \n",
              "343  Gentoo     Biscoe            49.9           16.1              213.0   \n",
              "\n",
              "     body_mass_g     sex  \n",
              "0         3750.0    Male  \n",
              "1         3800.0  Female  \n",
              "2         3250.0  Female  \n",
              "4         3450.0  Female  \n",
              "5         3650.0    Male  \n",
              "..           ...     ...  \n",
              "338       4925.0  Female  \n",
              "340       4850.0  Female  \n",
              "341       5750.0    Male  \n",
              "342       5200.0  Female  \n",
              "343       5400.0    Male  \n",
              "\n",
              "[333 rows x 7 columns]"
            ]
          },
          "execution_count": 471,
          "metadata": {},
          "output_type": "execute_result"
        }
      ],
      "source": [
        "df_penguins.dropna()"
      ]
    },
    {
      "cell_type": "markdown",
      "metadata": {
        "id": "H5-OiNdwazAl"
      },
      "source": [
        "3. By default, will the function in Question 2 modify df_penguins or will it return a copy?"
      ]
    },
    {
      "cell_type": "code",
      "execution_count": 473,
      "metadata": {},
      "outputs": [
        {
          "data": {
            "text/html": [
              "<div>\n",
              "<style scoped>\n",
              "    .dataframe tbody tr th:only-of-type {\n",
              "        vertical-align: middle;\n",
              "    }\n",
              "\n",
              "    .dataframe tbody tr th {\n",
              "        vertical-align: top;\n",
              "    }\n",
              "\n",
              "    .dataframe thead th {\n",
              "        text-align: right;\n",
              "    }\n",
              "</style>\n",
              "<table border=\"1\" class=\"dataframe\">\n",
              "  <thead>\n",
              "    <tr style=\"text-align: right;\">\n",
              "      <th></th>\n",
              "      <th>species</th>\n",
              "      <th>island</th>\n",
              "      <th>bill_length_mm</th>\n",
              "      <th>bill_depth_mm</th>\n",
              "      <th>flipper_length_mm</th>\n",
              "      <th>body_mass_g</th>\n",
              "      <th>sex</th>\n",
              "    </tr>\n",
              "  </thead>\n",
              "  <tbody>\n",
              "    <tr>\n",
              "      <th>0</th>\n",
              "      <td>Adelie</td>\n",
              "      <td>Torgersen</td>\n",
              "      <td>39.1</td>\n",
              "      <td>18.7</td>\n",
              "      <td>181.0</td>\n",
              "      <td>3750.0</td>\n",
              "      <td>Male</td>\n",
              "    </tr>\n",
              "    <tr>\n",
              "      <th>1</th>\n",
              "      <td>Adelie</td>\n",
              "      <td>Torgersen</td>\n",
              "      <td>39.5</td>\n",
              "      <td>17.4</td>\n",
              "      <td>186.0</td>\n",
              "      <td>3800.0</td>\n",
              "      <td>Female</td>\n",
              "    </tr>\n",
              "    <tr>\n",
              "      <th>2</th>\n",
              "      <td>Adelie</td>\n",
              "      <td>Torgersen</td>\n",
              "      <td>40.3</td>\n",
              "      <td>18.0</td>\n",
              "      <td>195.0</td>\n",
              "      <td>3250.0</td>\n",
              "      <td>Female</td>\n",
              "    </tr>\n",
              "    <tr>\n",
              "      <th>3</th>\n",
              "      <td>Adelie</td>\n",
              "      <td>Torgersen</td>\n",
              "      <td>NaN</td>\n",
              "      <td>NaN</td>\n",
              "      <td>NaN</td>\n",
              "      <td>NaN</td>\n",
              "      <td>NaN</td>\n",
              "    </tr>\n",
              "    <tr>\n",
              "      <th>4</th>\n",
              "      <td>Adelie</td>\n",
              "      <td>Torgersen</td>\n",
              "      <td>36.7</td>\n",
              "      <td>19.3</td>\n",
              "      <td>193.0</td>\n",
              "      <td>3450.0</td>\n",
              "      <td>Female</td>\n",
              "    </tr>\n",
              "  </tbody>\n",
              "</table>\n",
              "</div>"
            ],
            "text/plain": [
              "  species     island  bill_length_mm  bill_depth_mm  flipper_length_mm  \\\n",
              "0  Adelie  Torgersen            39.1           18.7              181.0   \n",
              "1  Adelie  Torgersen            39.5           17.4              186.0   \n",
              "2  Adelie  Torgersen            40.3           18.0              195.0   \n",
              "3  Adelie  Torgersen             NaN            NaN                NaN   \n",
              "4  Adelie  Torgersen            36.7           19.3              193.0   \n",
              "\n",
              "   body_mass_g     sex  \n",
              "0       3750.0    Male  \n",
              "1       3800.0  Female  \n",
              "2       3250.0  Female  \n",
              "3          NaN     NaN  \n",
              "4       3450.0  Female  "
            ]
          },
          "execution_count": 473,
          "metadata": {},
          "output_type": "execute_result"
        }
      ],
      "source": [
        "df_penguins.head() #unmodified, return a copy"
      ]
    },
    {
      "cell_type": "markdown",
      "metadata": {
        "id": "fGpQs-HxbE-4"
      },
      "source": [
        "4. Let df_full be the dataframe obtained from dropping rows with missing data. What is the average bill length of a penguin, in millimeters, in this (df_full) data set?"
      ]
    },
    {
      "cell_type": "code",
      "execution_count": 474,
      "metadata": {},
      "outputs": [
        {
          "data": {
            "text/plain": [
              "43.99279279279279"
            ]
          },
          "execution_count": 474,
          "metadata": {},
          "output_type": "execute_result"
        }
      ],
      "source": [
        "df_full = df_penguins.dropna()\n",
        "df_full.bill_length_mm.mean()"
      ]
    },
    {
      "cell_type": "markdown",
      "metadata": {
        "id": "8G2PTyWXZu3Q"
      },
      "source": [
        "5. Which species has the longest flippers?"
      ]
    },
    {
      "cell_type": "code",
      "execution_count": 478,
      "metadata": {},
      "outputs": [
        {
          "data": {
            "text/plain": [
              "<AxesSubplot:>"
            ]
          },
          "execution_count": 478,
          "metadata": {},
          "output_type": "execute_result"
        },
        {
          "data": {
            "image/png": "[encoded data removed]",
            "text/plain": [
              "<Figure size 432x288 with 1 Axes>"
            ]
          },
          "metadata": {
            "needs_background": "light"
          },
          "output_type": "display_data"
        }
      ],
      "source": [
        "df_full.flipper_length_mm.hist()"
      ]
    },
    {
      "cell_type": "code",
      "execution_count": 491,
      "metadata": {},
      "outputs": [
        {
          "data": {
            "text/html": [
              "<div>\n",
              "<style scoped>\n",
              "    .dataframe tbody tr th:only-of-type {\n",
              "        vertical-align: middle;\n",
              "    }\n",
              "\n",
              "    .dataframe tbody tr th {\n",
              "        vertical-align: top;\n",
              "    }\n",
              "\n",
              "    .dataframe thead th {\n",
              "        text-align: right;\n",
              "    }\n",
              "</style>\n",
              "<table border=\"1\" class=\"dataframe\">\n",
              "  <thead>\n",
              "    <tr style=\"text-align: right;\">\n",
              "      <th></th>\n",
              "      <th>species</th>\n",
              "      <th>flipper_length_mm</th>\n",
              "    </tr>\n",
              "  </thead>\n",
              "  <tbody>\n",
              "    <tr>\n",
              "      <th>28</th>\n",
              "      <td>Adelie</td>\n",
              "      <td>172.0</td>\n",
              "    </tr>\n",
              "    <tr>\n",
              "      <th>20</th>\n",
              "      <td>Adelie</td>\n",
              "      <td>174.0</td>\n",
              "    </tr>\n",
              "    <tr>\n",
              "      <th>122</th>\n",
              "      <td>Adelie</td>\n",
              "      <td>176.0</td>\n",
              "    </tr>\n",
              "    <tr>\n",
              "      <th>158</th>\n",
              "      <td>Chinstrap</td>\n",
              "      <td>178.0</td>\n",
              "    </tr>\n",
              "    <tr>\n",
              "      <th>98</th>\n",
              "      <td>Adelie</td>\n",
              "      <td>178.0</td>\n",
              "    </tr>\n",
              "    <tr>\n",
              "      <th>...</th>\n",
              "      <td>...</td>\n",
              "      <td>...</td>\n",
              "    </tr>\n",
              "    <tr>\n",
              "      <th>333</th>\n",
              "      <td>Gentoo</td>\n",
              "      <td>230.0</td>\n",
              "    </tr>\n",
              "    <tr>\n",
              "      <th>335</th>\n",
              "      <td>Gentoo</td>\n",
              "      <td>230.0</td>\n",
              "    </tr>\n",
              "    <tr>\n",
              "      <th>253</th>\n",
              "      <td>Gentoo</td>\n",
              "      <td>230.0</td>\n",
              "    </tr>\n",
              "    <tr>\n",
              "      <th>295</th>\n",
              "      <td>Gentoo</td>\n",
              "      <td>230.0</td>\n",
              "    </tr>\n",
              "    <tr>\n",
              "      <th>283</th>\n",
              "      <td>Gentoo</td>\n",
              "      <td>231.0</td>\n",
              "    </tr>\n",
              "  </tbody>\n",
              "</table>\n",
              "<p>333 rows × 2 columns</p>\n",
              "</div>"
            ],
            "text/plain": [
              "       species  flipper_length_mm\n",
              "28      Adelie              172.0\n",
              "20      Adelie              174.0\n",
              "122     Adelie              176.0\n",
              "158  Chinstrap              178.0\n",
              "98      Adelie              178.0\n",
              "..         ...                ...\n",
              "333     Gentoo              230.0\n",
              "335     Gentoo              230.0\n",
              "253     Gentoo              230.0\n",
              "295     Gentoo              230.0\n",
              "283     Gentoo              231.0\n",
              "\n",
              "[333 rows x 2 columns]"
            ]
          },
          "execution_count": 491,
          "metadata": {},
          "output_type": "execute_result"
        }
      ],
      "source": [
        "df_full[[\"species\",\"flipper_length_mm\"]].sort_values(by=\"flipper_length_mm\")"
      ]
    },
    {
      "cell_type": "markdown",
      "metadata": {},
      "source": [
        "Gentoo has longest flippers"
      ]
    },
    {
      "cell_type": "markdown",
      "metadata": {
        "id": "1cIOry3KZwVt"
      },
      "source": [
        "6. Which two species have the most similar mean weight?"
      ]
    },
    {
      "cell_type": "code",
      "execution_count": 497,
      "metadata": {
        "id": "SxrsVLOjUtLy"
      },
      "outputs": [
        {
          "data": {
            "text/html": [
              "<div>\n",
              "<style scoped>\n",
              "    .dataframe tbody tr th:only-of-type {\n",
              "        vertical-align: middle;\n",
              "    }\n",
              "\n",
              "    .dataframe tbody tr th {\n",
              "        vertical-align: top;\n",
              "    }\n",
              "\n",
              "    .dataframe thead th {\n",
              "        text-align: right;\n",
              "    }\n",
              "</style>\n",
              "<table border=\"1\" class=\"dataframe\">\n",
              "  <thead>\n",
              "    <tr style=\"text-align: right;\">\n",
              "      <th></th>\n",
              "      <th>body_mass_g</th>\n",
              "    </tr>\n",
              "    <tr>\n",
              "      <th>species</th>\n",
              "      <th></th>\n",
              "    </tr>\n",
              "  </thead>\n",
              "  <tbody>\n",
              "    <tr>\n",
              "      <th>Adelie</th>\n",
              "      <td>3706.164384</td>\n",
              "    </tr>\n",
              "    <tr>\n",
              "      <th>Chinstrap</th>\n",
              "      <td>3733.088235</td>\n",
              "    </tr>\n",
              "    <tr>\n",
              "      <th>Gentoo</th>\n",
              "      <td>5092.436975</td>\n",
              "    </tr>\n",
              "  </tbody>\n",
              "</table>\n",
              "</div>"
            ],
            "text/plain": [
              "           body_mass_g\n",
              "species               \n",
              "Adelie     3706.164384\n",
              "Chinstrap  3733.088235\n",
              "Gentoo     5092.436975"
            ]
          },
          "execution_count": 497,
          "metadata": {},
          "output_type": "execute_result"
        }
      ],
      "source": [
        "df_full[[\"species\",\"body_mass_g\"]].groupby(\"species\").mean(\"body_mass_g\")"
      ]
    },
    {
      "cell_type": "markdown",
      "metadata": {},
      "source": [
        "Adelie and Chinstrap are similar in weights."
      ]
    },
    {
      "cell_type": "markdown",
      "metadata": {
        "id": "KwYXrDn8Z1Zs"
      },
      "source": [
        "7. How could you sort by species first, then by body mass?"
      ]
    },
    {
      "cell_type": "code",
      "execution_count": 499,
      "metadata": {
        "id": "rPfIrl1HdHWf"
      },
      "outputs": [
        {
          "data": {
            "text/html": [
              "<div>\n",
              "<style scoped>\n",
              "    .dataframe tbody tr th:only-of-type {\n",
              "        vertical-align: middle;\n",
              "    }\n",
              "\n",
              "    .dataframe tbody tr th {\n",
              "        vertical-align: top;\n",
              "    }\n",
              "\n",
              "    .dataframe thead th {\n",
              "        text-align: right;\n",
              "    }\n",
              "</style>\n",
              "<table border=\"1\" class=\"dataframe\">\n",
              "  <thead>\n",
              "    <tr style=\"text-align: right;\">\n",
              "      <th></th>\n",
              "      <th>species</th>\n",
              "      <th>island</th>\n",
              "      <th>bill_length_mm</th>\n",
              "      <th>bill_depth_mm</th>\n",
              "      <th>flipper_length_mm</th>\n",
              "      <th>body_mass_g</th>\n",
              "      <th>sex</th>\n",
              "    </tr>\n",
              "  </thead>\n",
              "  <tbody>\n",
              "    <tr>\n",
              "      <th>58</th>\n",
              "      <td>Adelie</td>\n",
              "      <td>Biscoe</td>\n",
              "      <td>36.5</td>\n",
              "      <td>16.6</td>\n",
              "      <td>181.0</td>\n",
              "      <td>2850.0</td>\n",
              "      <td>Female</td>\n",
              "    </tr>\n",
              "    <tr>\n",
              "      <th>64</th>\n",
              "      <td>Adelie</td>\n",
              "      <td>Biscoe</td>\n",
              "      <td>36.4</td>\n",
              "      <td>17.1</td>\n",
              "      <td>184.0</td>\n",
              "      <td>2850.0</td>\n",
              "      <td>Female</td>\n",
              "    </tr>\n",
              "    <tr>\n",
              "      <th>54</th>\n",
              "      <td>Adelie</td>\n",
              "      <td>Biscoe</td>\n",
              "      <td>34.5</td>\n",
              "      <td>18.1</td>\n",
              "      <td>187.0</td>\n",
              "      <td>2900.0</td>\n",
              "      <td>Female</td>\n",
              "    </tr>\n",
              "    <tr>\n",
              "      <th>98</th>\n",
              "      <td>Adelie</td>\n",
              "      <td>Dream</td>\n",
              "      <td>33.1</td>\n",
              "      <td>16.1</td>\n",
              "      <td>178.0</td>\n",
              "      <td>2900.0</td>\n",
              "      <td>Female</td>\n",
              "    </tr>\n",
              "    <tr>\n",
              "      <th>116</th>\n",
              "      <td>Adelie</td>\n",
              "      <td>Torgersen</td>\n",
              "      <td>38.6</td>\n",
              "      <td>17.0</td>\n",
              "      <td>188.0</td>\n",
              "      <td>2900.0</td>\n",
              "      <td>Female</td>\n",
              "    </tr>\n",
              "    <tr>\n",
              "      <th>104</th>\n",
              "      <td>Adelie</td>\n",
              "      <td>Biscoe</td>\n",
              "      <td>37.9</td>\n",
              "      <td>18.6</td>\n",
              "      <td>193.0</td>\n",
              "      <td>2925.0</td>\n",
              "      <td>Female</td>\n",
              "    </tr>\n",
              "    <tr>\n",
              "      <th>44</th>\n",
              "      <td>Adelie</td>\n",
              "      <td>Dream</td>\n",
              "      <td>37.0</td>\n",
              "      <td>16.9</td>\n",
              "      <td>185.0</td>\n",
              "      <td>3000.0</td>\n",
              "      <td>Female</td>\n",
              "    </tr>\n",
              "    <tr>\n",
              "      <th>144</th>\n",
              "      <td>Adelie</td>\n",
              "      <td>Dream</td>\n",
              "      <td>37.3</td>\n",
              "      <td>16.8</td>\n",
              "      <td>192.0</td>\n",
              "      <td>3000.0</td>\n",
              "      <td>Female</td>\n",
              "    </tr>\n",
              "    <tr>\n",
              "      <th>68</th>\n",
              "      <td>Adelie</td>\n",
              "      <td>Torgersen</td>\n",
              "      <td>35.9</td>\n",
              "      <td>16.6</td>\n",
              "      <td>190.0</td>\n",
              "      <td>3050.0</td>\n",
              "      <td>Female</td>\n",
              "    </tr>\n",
              "    <tr>\n",
              "      <th>124</th>\n",
              "      <td>Adelie</td>\n",
              "      <td>Torgersen</td>\n",
              "      <td>35.2</td>\n",
              "      <td>15.9</td>\n",
              "      <td>186.0</td>\n",
              "      <td>3050.0</td>\n",
              "      <td>Female</td>\n",
              "    </tr>\n",
              "  </tbody>\n",
              "</table>\n",
              "</div>"
            ],
            "text/plain": [
              "    species     island  bill_length_mm  bill_depth_mm  flipper_length_mm  \\\n",
              "58   Adelie     Biscoe            36.5           16.6              181.0   \n",
              "64   Adelie     Biscoe            36.4           17.1              184.0   \n",
              "54   Adelie     Biscoe            34.5           18.1              187.0   \n",
              "98   Adelie      Dream            33.1           16.1              178.0   \n",
              "116  Adelie  Torgersen            38.6           17.0              188.0   \n",
              "104  Adelie     Biscoe            37.9           18.6              193.0   \n",
              "44   Adelie      Dream            37.0           16.9              185.0   \n",
              "144  Adelie      Dream            37.3           16.8              192.0   \n",
              "68   Adelie  Torgersen            35.9           16.6              190.0   \n",
              "124  Adelie  Torgersen            35.2           15.9              186.0   \n",
              "\n",
              "     body_mass_g     sex  \n",
              "58        2850.0  Female  \n",
              "64        2850.0  Female  \n",
              "54        2900.0  Female  \n",
              "98        2900.0  Female  \n",
              "116       2900.0  Female  \n",
              "104       2925.0  Female  \n",
              "44        3000.0  Female  \n",
              "144       3000.0  Female  \n",
              "68        3050.0  Female  \n",
              "124       3050.0  Female  "
            ]
          },
          "execution_count": 499,
          "metadata": {},
          "output_type": "execute_result"
        }
      ],
      "source": [
        "df_full.sort_values(by=[\"species\",\"body_mass_g\"]).head(10)"
      ]
    },
    {
      "cell_type": "markdown",
      "metadata": {
        "id": "bRR0ove1aLBL"
      },
      "source": [
        "The following three questions depend on the taxis dataset."
      ]
    },
    {
      "cell_type": "code",
      "execution_count": 500,
      "metadata": {
        "id": "UXIN5IwbUtOd"
      },
      "outputs": [],
      "source": [
        "df_taxis = sns.load_dataset('taxis')"
      ]
    },
    {
      "cell_type": "markdown",
      "metadata": {
        "id": "3oh5_pHEbrQp"
      },
      "source": [
        "8. The 'pickup' column contains the date and time the customer picked up, but it's a string.  Add a column to the DataFrame, 'pickup_time', containing the value in 'pickup' as a DateTime."
      ]
    },
    {
      "cell_type": "code",
      "execution_count": 503,
      "metadata": {},
      "outputs": [
        {
          "data": {
            "text/plain": [
              "0       2019-03-23 20:21:09\n",
              "1       2019-03-04 16:11:55\n",
              "2       2019-03-27 17:53:01\n",
              "3       2019-03-10 01:23:59\n",
              "4       2019-03-30 13:27:42\n",
              "               ...         \n",
              "6428    2019-03-31 09:51:53\n",
              "6429    2019-03-31 17:38:00\n",
              "6430    2019-03-23 22:55:18\n",
              "6431    2019-03-04 10:09:25\n",
              "6432    2019-03-13 19:31:22\n",
              "Name: pickup, Length: 6433, dtype: object"
            ]
          },
          "execution_count": 503,
          "metadata": {},
          "output_type": "execute_result"
        }
      ],
      "source": [
        "df_taxis.pickup"
      ]
    },
    {
      "cell_type": "code",
      "execution_count": 505,
      "metadata": {
        "id": "coNwd-OjUtTp"
      },
      "outputs": [
        {
          "data": {
            "text/plain": [
              "0      2019-03-23 20:21:09\n",
              "1      2019-03-04 16:11:55\n",
              "2      2019-03-27 17:53:01\n",
              "3      2019-03-10 01:23:59\n",
              "4      2019-03-30 13:27:42\n",
              "               ...        \n",
              "6428   2019-03-31 09:51:53\n",
              "6429   2019-03-31 17:38:00\n",
              "6430   2019-03-23 22:55:18\n",
              "6431   2019-03-04 10:09:25\n",
              "6432   2019-03-13 19:31:22\n",
              "Name: pickup_time, Length: 6433, dtype: datetime64[ns]"
            ]
          },
          "execution_count": 505,
          "metadata": {},
          "output_type": "execute_result"
        }
      ],
      "source": [
        "df_taxis[\"pickup_time\"] = pd.to_datetime(df_taxis.pickup,format = \"%Y-%m-%d %H:%M:%S\")\n",
        "df_taxis[\"pickup_time\"]"
      ]
    },
    {
      "cell_type": "markdown",
      "metadata": {
        "id": "f7rfz-d2cSRe"
      },
      "source": [
        "9. Create a subset of the dataframe to create a new DataFrame, taxis_one_day. This new DataFrame should have pickup_time values between '2019-03-23 00:06:00' (inclusive) and '2019-03-24 00:00:00' (exlusive)."
      ]
    },
    {
      "cell_type": "code",
      "execution_count": 511,
      "metadata": {},
      "outputs": [],
      "source": [
        "import datetime"
      ]
    },
    {
      "cell_type": "code",
      "execution_count": 513,
      "metadata": {},
      "outputs": [
        {
          "data": {
            "text/plain": [
              "Timestamp('2016-01-19 00:00:00')"
            ]
          },
          "execution_count": 513,
          "metadata": {},
          "output_type": "execute_result"
        }
      ],
      "source": [
        "pd.to_datetime(datetime.date(2016, 1, 19))"
      ]
    },
    {
      "cell_type": "code",
      "execution_count": 523,
      "metadata": {},
      "outputs": [],
      "source": [
        "one_day =(pd.to_datetime('2019-03-23 00:06:00')<=df_taxis.pickup_time\n",
        "        )&(df_taxis.pickup_time<pd.to_datetime('2019-03-24 00:00:00'))"
      ]
    },
    {
      "cell_type": "code",
      "execution_count": 524,
      "metadata": {
        "id": "AfcUTYPVbjAK"
      },
      "outputs": [
        {
          "data": {
            "text/html": [
              "<div>\n",
              "<style scoped>\n",
              "    .dataframe tbody tr th:only-of-type {\n",
              "        vertical-align: middle;\n",
              "    }\n",
              "\n",
              "    .dataframe tbody tr th {\n",
              "        vertical-align: top;\n",
              "    }\n",
              "\n",
              "    .dataframe thead th {\n",
              "        text-align: right;\n",
              "    }\n",
              "</style>\n",
              "<table border=\"1\" class=\"dataframe\">\n",
              "  <thead>\n",
              "    <tr style=\"text-align: right;\">\n",
              "      <th></th>\n",
              "      <th>pickup</th>\n",
              "      <th>dropoff</th>\n",
              "      <th>passengers</th>\n",
              "      <th>distance</th>\n",
              "      <th>fare</th>\n",
              "      <th>tip</th>\n",
              "      <th>tolls</th>\n",
              "      <th>total</th>\n",
              "      <th>color</th>\n",
              "      <th>payment</th>\n",
              "      <th>pickup_zone</th>\n",
              "      <th>dropoff_zone</th>\n",
              "      <th>pickup_borough</th>\n",
              "      <th>dropoff_borough</th>\n",
              "      <th>pickup_time</th>\n",
              "    </tr>\n",
              "  </thead>\n",
              "  <tbody>\n",
              "    <tr>\n",
              "      <th>0</th>\n",
              "      <td>2019-03-23 20:21:09</td>\n",
              "      <td>2019-03-23 20:27:24</td>\n",
              "      <td>1</td>\n",
              "      <td>1.60</td>\n",
              "      <td>7.0</td>\n",
              "      <td>2.15</td>\n",
              "      <td>0.0</td>\n",
              "      <td>12.95</td>\n",
              "      <td>yellow</td>\n",
              "      <td>credit card</td>\n",
              "      <td>Lenox Hill West</td>\n",
              "      <td>UN/Turtle Bay South</td>\n",
              "      <td>Manhattan</td>\n",
              "      <td>Manhattan</td>\n",
              "      <td>2019-03-23 20:21:09</td>\n",
              "    </tr>\n",
              "    <tr>\n",
              "      <th>8</th>\n",
              "      <td>2019-03-23 11:48:50</td>\n",
              "      <td>2019-03-23 12:06:14</td>\n",
              "      <td>1</td>\n",
              "      <td>3.63</td>\n",
              "      <td>15.0</td>\n",
              "      <td>1.00</td>\n",
              "      <td>0.0</td>\n",
              "      <td>19.30</td>\n",
              "      <td>yellow</td>\n",
              "      <td>credit card</td>\n",
              "      <td>East Harlem South</td>\n",
              "      <td>Midtown Center</td>\n",
              "      <td>Manhattan</td>\n",
              "      <td>Manhattan</td>\n",
              "      <td>2019-03-23 11:48:50</td>\n",
              "    </tr>\n",
              "    <tr>\n",
              "      <th>17</th>\n",
              "      <td>2019-03-23 20:50:49</td>\n",
              "      <td>2019-03-23 21:02:07</td>\n",
              "      <td>1</td>\n",
              "      <td>2.60</td>\n",
              "      <td>10.5</td>\n",
              "      <td>2.00</td>\n",
              "      <td>0.0</td>\n",
              "      <td>16.30</td>\n",
              "      <td>yellow</td>\n",
              "      <td>credit card</td>\n",
              "      <td>Midtown Center</td>\n",
              "      <td>East Harlem South</td>\n",
              "      <td>Manhattan</td>\n",
              "      <td>Manhattan</td>\n",
              "      <td>2019-03-23 20:50:49</td>\n",
              "    </tr>\n",
              "    <tr>\n",
              "      <th>117</th>\n",
              "      <td>2019-03-23 09:39:25</td>\n",
              "      <td>2019-03-23 09:56:45</td>\n",
              "      <td>0</td>\n",
              "      <td>3.60</td>\n",
              "      <td>15.5</td>\n",
              "      <td>3.75</td>\n",
              "      <td>0.0</td>\n",
              "      <td>22.55</td>\n",
              "      <td>yellow</td>\n",
              "      <td>credit card</td>\n",
              "      <td>Yorkville East</td>\n",
              "      <td>Penn Station/Madison Sq West</td>\n",
              "      <td>Manhattan</td>\n",
              "      <td>Manhattan</td>\n",
              "      <td>2019-03-23 09:39:25</td>\n",
              "    </tr>\n",
              "    <tr>\n",
              "      <th>144</th>\n",
              "      <td>2019-03-23 18:35:01</td>\n",
              "      <td>2019-03-23 18:47:39</td>\n",
              "      <td>1</td>\n",
              "      <td>3.20</td>\n",
              "      <td>12.5</td>\n",
              "      <td>2.00</td>\n",
              "      <td>0.0</td>\n",
              "      <td>17.80</td>\n",
              "      <td>yellow</td>\n",
              "      <td>credit card</td>\n",
              "      <td>UN/Turtle Bay South</td>\n",
              "      <td>East Village</td>\n",
              "      <td>Manhattan</td>\n",
              "      <td>Manhattan</td>\n",
              "      <td>2019-03-23 18:35:01</td>\n",
              "    </tr>\n",
              "  </tbody>\n",
              "</table>\n",
              "</div>"
            ],
            "text/plain": [
              "                  pickup              dropoff  passengers  distance  fare  \\\n",
              "0    2019-03-23 20:21:09  2019-03-23 20:27:24           1      1.60   7.0   \n",
              "8    2019-03-23 11:48:50  2019-03-23 12:06:14           1      3.63  15.0   \n",
              "17   2019-03-23 20:50:49  2019-03-23 21:02:07           1      2.60  10.5   \n",
              "117  2019-03-23 09:39:25  2019-03-23 09:56:45           0      3.60  15.5   \n",
              "144  2019-03-23 18:35:01  2019-03-23 18:47:39           1      3.20  12.5   \n",
              "\n",
              "      tip  tolls  total   color      payment          pickup_zone  \\\n",
              "0    2.15    0.0  12.95  yellow  credit card      Lenox Hill West   \n",
              "8    1.00    0.0  19.30  yellow  credit card    East Harlem South   \n",
              "17   2.00    0.0  16.30  yellow  credit card       Midtown Center   \n",
              "117  3.75    0.0  22.55  yellow  credit card       Yorkville East   \n",
              "144  2.00    0.0  17.80  yellow  credit card  UN/Turtle Bay South   \n",
              "\n",
              "                     dropoff_zone pickup_borough dropoff_borough  \\\n",
              "0             UN/Turtle Bay South      Manhattan       Manhattan   \n",
              "8                  Midtown Center      Manhattan       Manhattan   \n",
              "17              East Harlem South      Manhattan       Manhattan   \n",
              "117  Penn Station/Madison Sq West      Manhattan       Manhattan   \n",
              "144                  East Village      Manhattan       Manhattan   \n",
              "\n",
              "            pickup_time  \n",
              "0   2019-03-23 20:21:09  \n",
              "8   2019-03-23 11:48:50  \n",
              "17  2019-03-23 20:50:49  \n",
              "117 2019-03-23 09:39:25  \n",
              "144 2019-03-23 18:35:01  "
            ]
          },
          "execution_count": 524,
          "metadata": {},
          "output_type": "execute_result"
        }
      ],
      "source": [
        "taxis_one_day =  df_taxis[one_day]\n",
        "taxis_one_day.head()"
      ]
    },
    {
      "cell_type": "markdown",
      "metadata": {
        "id": "k9ErqDN-cf84"
      },
      "source": [
        "10. From the dataframe in Question 9, take the mean of the numeric columns, grouped at one hour intervals.  Save the result as df_means, and display it."
      ]
    },
    {
      "cell_type": "code",
      "execution_count": 542,
      "metadata": {},
      "outputs": [
        {
          "data": {
            "text/plain": [
              "['passengers', 'distance', 'fare', 'tip', 'tolls']"
            ]
          },
          "execution_count": 542,
          "metadata": {},
          "output_type": "execute_result"
        }
      ],
      "source": [
        "numeric_col = taxis_one_day.columns.tolist()[2:7]\n",
        "numeric_col"
      ]
    },
    {
      "cell_type": "code",
      "execution_count": 544,
      "metadata": {},
      "outputs": [
        {
          "data": {
            "text/html": [
              "<div>\n",
              "<style scoped>\n",
              "    .dataframe tbody tr th:only-of-type {\n",
              "        vertical-align: middle;\n",
              "    }\n",
              "\n",
              "    .dataframe tbody tr th {\n",
              "        vertical-align: top;\n",
              "    }\n",
              "\n",
              "    .dataframe thead th {\n",
              "        text-align: right;\n",
              "    }\n",
              "</style>\n",
              "<table border=\"1\" class=\"dataframe\">\n",
              "  <thead>\n",
              "    <tr style=\"text-align: right;\">\n",
              "      <th></th>\n",
              "      <th>passengers</th>\n",
              "      <th>distance</th>\n",
              "      <th>fare</th>\n",
              "      <th>tip</th>\n",
              "      <th>tolls</th>\n",
              "    </tr>\n",
              "    <tr>\n",
              "      <th>pickup_time</th>\n",
              "      <th></th>\n",
              "      <th></th>\n",
              "      <th></th>\n",
              "      <th></th>\n",
              "      <th></th>\n",
              "    </tr>\n",
              "  </thead>\n",
              "  <tbody>\n",
              "    <tr>\n",
              "      <th>0</th>\n",
              "      <td>1.000000</td>\n",
              "      <td>1.911667</td>\n",
              "      <td>8.583333</td>\n",
              "      <td>1.415000</td>\n",
              "      <td>0.000000</td>\n",
              "    </tr>\n",
              "    <tr>\n",
              "      <th>1</th>\n",
              "      <td>1.250000</td>\n",
              "      <td>1.325000</td>\n",
              "      <td>7.875000</td>\n",
              "      <td>1.525000</td>\n",
              "      <td>0.000000</td>\n",
              "    </tr>\n",
              "    <tr>\n",
              "      <th>2</th>\n",
              "      <td>1.727273</td>\n",
              "      <td>1.739091</td>\n",
              "      <td>8.181818</td>\n",
              "      <td>1.641818</td>\n",
              "      <td>0.000000</td>\n",
              "    </tr>\n",
              "    <tr>\n",
              "      <th>3</th>\n",
              "      <td>1.500000</td>\n",
              "      <td>3.377500</td>\n",
              "      <td>11.750000</td>\n",
              "      <td>2.410000</td>\n",
              "      <td>0.000000</td>\n",
              "    </tr>\n",
              "    <tr>\n",
              "      <th>4</th>\n",
              "      <td>2.000000</td>\n",
              "      <td>0.950000</td>\n",
              "      <td>5.500000</td>\n",
              "      <td>0.915000</td>\n",
              "      <td>0.000000</td>\n",
              "    </tr>\n",
              "    <tr>\n",
              "      <th>5</th>\n",
              "      <td>2.000000</td>\n",
              "      <td>1.270000</td>\n",
              "      <td>6.000000</td>\n",
              "      <td>0.980000</td>\n",
              "      <td>0.000000</td>\n",
              "    </tr>\n",
              "    <tr>\n",
              "      <th>6</th>\n",
              "      <td>1.000000</td>\n",
              "      <td>0.400000</td>\n",
              "      <td>21.500000</td>\n",
              "      <td>0.000000</td>\n",
              "      <td>0.000000</td>\n",
              "    </tr>\n",
              "    <tr>\n",
              "      <th>7</th>\n",
              "      <td>2.333333</td>\n",
              "      <td>0.980000</td>\n",
              "      <td>5.250000</td>\n",
              "      <td>1.165000</td>\n",
              "      <td>0.000000</td>\n",
              "    </tr>\n",
              "    <tr>\n",
              "      <th>8</th>\n",
              "      <td>1.000000</td>\n",
              "      <td>0.020000</td>\n",
              "      <td>2.500000</td>\n",
              "      <td>0.000000</td>\n",
              "      <td>0.000000</td>\n",
              "    </tr>\n",
              "    <tr>\n",
              "      <th>9</th>\n",
              "      <td>1.500000</td>\n",
              "      <td>1.352000</td>\n",
              "      <td>7.400000</td>\n",
              "      <td>1.674000</td>\n",
              "      <td>0.000000</td>\n",
              "    </tr>\n",
              "    <tr>\n",
              "      <th>10</th>\n",
              "      <td>1.000000</td>\n",
              "      <td>1.760000</td>\n",
              "      <td>8.750000</td>\n",
              "      <td>0.727500</td>\n",
              "      <td>0.000000</td>\n",
              "    </tr>\n",
              "    <tr>\n",
              "      <th>11</th>\n",
              "      <td>1.909091</td>\n",
              "      <td>2.070000</td>\n",
              "      <td>11.090909</td>\n",
              "      <td>0.803636</td>\n",
              "      <td>0.000000</td>\n",
              "    </tr>\n",
              "    <tr>\n",
              "      <th>12</th>\n",
              "      <td>2.000000</td>\n",
              "      <td>2.267143</td>\n",
              "      <td>10.260000</td>\n",
              "      <td>0.645714</td>\n",
              "      <td>0.000000</td>\n",
              "    </tr>\n",
              "    <tr>\n",
              "      <th>13</th>\n",
              "      <td>2.500000</td>\n",
              "      <td>1.167000</td>\n",
              "      <td>7.550000</td>\n",
              "      <td>2.074000</td>\n",
              "      <td>0.000000</td>\n",
              "    </tr>\n",
              "    <tr>\n",
              "      <th>14</th>\n",
              "      <td>2.470588</td>\n",
              "      <td>4.752941</td>\n",
              "      <td>18.330000</td>\n",
              "      <td>1.945294</td>\n",
              "      <td>1.003529</td>\n",
              "    </tr>\n",
              "    <tr>\n",
              "      <th>15</th>\n",
              "      <td>1.000000</td>\n",
              "      <td>6.557143</td>\n",
              "      <td>22.214286</td>\n",
              "      <td>3.210000</td>\n",
              "      <td>1.645714</td>\n",
              "    </tr>\n",
              "    <tr>\n",
              "      <th>16</th>\n",
              "      <td>2.000000</td>\n",
              "      <td>2.194545</td>\n",
              "      <td>10.454545</td>\n",
              "      <td>1.109091</td>\n",
              "      <td>0.000000</td>\n",
              "    </tr>\n",
              "    <tr>\n",
              "      <th>17</th>\n",
              "      <td>1.090909</td>\n",
              "      <td>1.913636</td>\n",
              "      <td>14.818182</td>\n",
              "      <td>2.688182</td>\n",
              "      <td>0.523636</td>\n",
              "    </tr>\n",
              "    <tr>\n",
              "      <th>18</th>\n",
              "      <td>1.571429</td>\n",
              "      <td>3.206429</td>\n",
              "      <td>12.821429</td>\n",
              "      <td>0.844286</td>\n",
              "      <td>0.411429</td>\n",
              "    </tr>\n",
              "    <tr>\n",
              "      <th>19</th>\n",
              "      <td>1.526316</td>\n",
              "      <td>2.097895</td>\n",
              "      <td>10.263158</td>\n",
              "      <td>1.176316</td>\n",
              "      <td>0.000000</td>\n",
              "    </tr>\n",
              "    <tr>\n",
              "      <th>20</th>\n",
              "      <td>1.400000</td>\n",
              "      <td>2.448000</td>\n",
              "      <td>11.100000</td>\n",
              "      <td>1.544000</td>\n",
              "      <td>0.000000</td>\n",
              "    </tr>\n",
              "    <tr>\n",
              "      <th>21</th>\n",
              "      <td>1.000000</td>\n",
              "      <td>2.017143</td>\n",
              "      <td>10.571429</td>\n",
              "      <td>1.420000</td>\n",
              "      <td>0.000000</td>\n",
              "    </tr>\n",
              "    <tr>\n",
              "      <th>22</th>\n",
              "      <td>1.307692</td>\n",
              "      <td>1.881538</td>\n",
              "      <td>8.923077</td>\n",
              "      <td>1.094615</td>\n",
              "      <td>0.000000</td>\n",
              "    </tr>\n",
              "    <tr>\n",
              "      <th>23</th>\n",
              "      <td>1.615385</td>\n",
              "      <td>3.725385</td>\n",
              "      <td>15.115385</td>\n",
              "      <td>1.696154</td>\n",
              "      <td>0.000000</td>\n",
              "    </tr>\n",
              "  </tbody>\n",
              "</table>\n",
              "</div>"
            ],
            "text/plain": [
              "             passengers  distance       fare       tip     tolls\n",
              "pickup_time                                                     \n",
              "0              1.000000  1.911667   8.583333  1.415000  0.000000\n",
              "1              1.250000  1.325000   7.875000  1.525000  0.000000\n",
              "2              1.727273  1.739091   8.181818  1.641818  0.000000\n",
              "3              1.500000  3.377500  11.750000  2.410000  0.000000\n",
              "4              2.000000  0.950000   5.500000  0.915000  0.000000\n",
              "5              2.000000  1.270000   6.000000  0.980000  0.000000\n",
              "6              1.000000  0.400000  21.500000  0.000000  0.000000\n",
              "7              2.333333  0.980000   5.250000  1.165000  0.000000\n",
              "8              1.000000  0.020000   2.500000  0.000000  0.000000\n",
              "9              1.500000  1.352000   7.400000  1.674000  0.000000\n",
              "10             1.000000  1.760000   8.750000  0.727500  0.000000\n",
              "11             1.909091  2.070000  11.090909  0.803636  0.000000\n",
              "12             2.000000  2.267143  10.260000  0.645714  0.000000\n",
              "13             2.500000  1.167000   7.550000  2.074000  0.000000\n",
              "14             2.470588  4.752941  18.330000  1.945294  1.003529\n",
              "15             1.000000  6.557143  22.214286  3.210000  1.645714\n",
              "16             2.000000  2.194545  10.454545  1.109091  0.000000\n",
              "17             1.090909  1.913636  14.818182  2.688182  0.523636\n",
              "18             1.571429  3.206429  12.821429  0.844286  0.411429\n",
              "19             1.526316  2.097895  10.263158  1.176316  0.000000\n",
              "20             1.400000  2.448000  11.100000  1.544000  0.000000\n",
              "21             1.000000  2.017143  10.571429  1.420000  0.000000\n",
              "22             1.307692  1.881538   8.923077  1.094615  0.000000\n",
              "23             1.615385  3.725385  15.115385  1.696154  0.000000"
            ]
          },
          "execution_count": 544,
          "metadata": {},
          "output_type": "execute_result"
        }
      ],
      "source": [
        "df_means = taxis_one_day[[\"pickup_time\"]+numeric_col].groupby([taxis_one_day['pickup_time'].dt.hour]).mean()\n",
        "df_means"
      ]
    },
    {
      "cell_type": "code",
      "execution_count": 545,
      "metadata": {},
      "outputs": [
        {
          "data": {
            "text/plain": [
              "<AxesSubplot:xlabel='pickup_time'>"
            ]
          },
          "execution_count": 545,
          "metadata": {},
          "output_type": "execute_result"
        },
        {
          "data": {
            "image/png": "[encoded data removed]",
            "text/plain": [
              "<Figure size 432x288 with 1 Axes>"
            ]
          },
          "metadata": {
            "needs_background": "light"
          },
          "output_type": "display_data"
        }
      ],
      "source": [
        "df_means.plot()"
      ]
    },
    {
      "cell_type": "markdown",
      "metadata": {
        "id": "gGLHwogaZX0-"
      },
      "source": [
        "Check https://colab.research.google.com/github/CodeSolid/CodeSolid.github.io/blob/main/booksource/exercises/PandasExercises.ipynb for more Pandas exercises."
      ]
    }
  ],
  "metadata": {
    "colab": {
      "collapsed_sections": [],
      "name": "Week1_Exercises.ipynb",
      "provenance": []
    },
    "kernelspec": {
      "display_name": "Python 3.10.5 64-bit (windows store)",
      "language": "python",
      "name": "python3"
    },
    "language_info": {
      "codemirror_mode": {
        "name": "ipython",
        "version": 3
      },
      "file_extension": ".py",
      "mimetype": "text/x-python",
      "name": "python",
      "nbconvert_exporter": "python",
      "pygments_lexer": "ipython3",
      "version": "3.10.5"
    },
    "vscode": {
      "interpreter": {
        "hash": "40ea231ce006ed65b013ba3e9b5a48267321b4d32b910ea3a649228a606377c3"
      }
    }
  },
  "nbformat": 4,
  "nbformat_minor": 0
}
